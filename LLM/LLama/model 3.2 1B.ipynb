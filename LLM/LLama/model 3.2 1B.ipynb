{
 "cells": [
  {
   "cell_type": "code",
   "execution_count": 2,
   "metadata": {},
   "outputs": [],
   "source": [
    "import ollama"
   ]
  },
  {
   "cell_type": "code",
   "execution_count": null,
   "metadata": {},
   "outputs": [
    {
     "name": "stdout",
     "output_type": "stream",
     "text": [
      "The capital of India is New Delhi. It's a vibrant city with a rich history, cultural landmarks, and exciting attractions. Here are some of the most famous places to visit in New Delhi:\n",
      "\n",
      "1. Red Fort (Lal Qila): A UNESCO World Heritage Site and one of the oldest mughal forts in India.\n",
      "2. Qutub Minar: The tallest minaret in India, built by the Mughal emperor Ghiyas-ud-Din Khalji in 1199 AD.\n",
      "3. Humayun's Tomb: Another iconic Mughal monument, built by Shah Jahan as a tomb for his wife Mumtaz Mahal.\n",
      "4. Chandni Chowk: A bustling street market known for its street food, handicrafts, and traditional shopping.\n",
      "5. India Gate: A war memorial built in memory of the Indian soldiers who fought and died during World War I.\n",
      "6. Akshardham Temple: A sprawling complex dedicated to Lord Swaminarayan, featuring stunning architecture and a wide range of cultural exhibits.\n",
      "7. Safdarjung Tomb: A beautifully preserved mausoleum built by Sir Saadat Ali Khan II in 1749 AD.\n",
      "\n",
      "These are just a few of the many places to visit in New Delhi. The city has plenty more to offer, including museums, parks, and shopping districts like Connaught Place and DLF Mall.\n"
     ]
    }
   ],
   "source": [
    "# model = \"llama3\"\n",
    "model = \"llama3.2:1b\"\n",
    "response = ollama.chat(\n",
    "    model=model, \n",
    "    messages=[\n",
    "        {\"role\": \"user\", \"content\": \"What's the capital of India and famous place to visit there?\"}\n",
    "    ]\n",
    ")\n",
    "print(response[\"message\"][\"content\"])\n"
   ]
  },
  {
   "cell_type": "code",
   "execution_count": 12,
   "metadata": {},
   "outputs": [
    {
     "name": "stdout",
     "output_type": "stream",
     "text": [
      "The capital of India is New Delhi. One of the most famous places to visit in New Delhi is the Red Fort (also known as Lal Qila), a majestic Mughal-era fort that served as the primary residence of the Mughal emperors from 1648 to 1857. The Red Fort is now a UNESCO World Heritage Site and a popular tourist destination, offering stunning architecture, beautiful gardens, and a glimpse into India's rich history.\n",
      "\n",
      "Additionally, other must-visit places in New Delhi include:\n",
      "\n",
      "* Qutub Minar: A 73-meter-tall minaret that was built in the 13th century and is one of the tallest structures in the world.\n",
      "* Humayun's Tomb: A beautiful Mughal-era tomb built by Humayun after his defeat at the Battle of Talikot.\n",
      "* India Gate: A war memorial built in memory of Indian soldiers who died during World War I and II.\n",
      "* Chandni Chowk: A bustling street market known for its street food, shopping, and nightlife.\n",
      "\n",
      "These are just a few examples of the many amazing places to visit in New Delhi."
     ]
    }
   ],
   "source": [
    "\n",
    "messages = [{\"role\": \"user\", \"content\": \"What's the capital of India and famous place to visit?\"}]\n",
    "for chunk in ollama.chat(model=model, messages=messages, stream=True):\n",
    "    token = chunk[\"message\"][\"content\"]\n",
    "    if token is not None:\n",
    "        print(token, end=\"\")"
   ]
  },
  {
   "cell_type": "code",
   "execution_count": null,
   "metadata": {},
   "outputs": [],
   "source": []
  }
 ],
 "metadata": {
  "kernelspec": {
   "display_name": "mygenai",
   "language": "python",
   "name": "python3"
  },
  "language_info": {
   "codemirror_mode": {
    "name": "ipython",
    "version": 3
   },
   "file_extension": ".py",
   "mimetype": "text/x-python",
   "name": "python",
   "nbconvert_exporter": "python",
   "pygments_lexer": "ipython3",
   "version": "3.12.3"
  }
 },
 "nbformat": 4,
 "nbformat_minor": 2
}
