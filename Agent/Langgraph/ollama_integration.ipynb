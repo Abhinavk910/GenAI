{
 "cells": [
  {
   "cell_type": "code",
   "execution_count": 1,
   "metadata": {},
   "outputs": [],
   "source": [
    "from langchain_ollama.llms import OllamaLLM\n",
    "llm = OllamaLLM(model=\"llama3.2:1b\")"
   ]
  },
  {
   "cell_type": "code",
   "execution_count": 2,
   "metadata": {},
   "outputs": [
    {
     "name": "stdout",
     "output_type": "stream",
     "text": [
      "User: what is love?\n",
      "Assistant: Love is a complex and multifaceted emotion that can be challenging to define, but I'll try to provide a general understanding of it.\n",
      "\n",
      "Love encompasses a range of feelings and behaviors that are unique to each individual. It's a mix of emotions, such as affection, attachment, care, and passion, which can vary from person to person and even from one situation to another.\n",
      "\n",
      "Some people believe that love is a strong feeling of attachment or connection with another person, often accompanied by a desire for mutual support, understanding, and intimacy. Others see it as a profound appreciation for the beauty and value of life itself, often leading to a deep sense of gratitude and devotion.\n",
      "\n",
      "From a philosophical perspective, love has been described as a fundamental aspect of human nature, essential for personal growth, relationships, and community building. It's what drives us to care for others, to sacrifice our own needs for their benefit, and to strive for happiness and fulfillment together.\n",
      "\n",
      "In many cultures and traditions, love is associated with specific values or virtues, such as compassion, empathy, humility, and forgiveness. These shared understandings of love can provide a common language and set of principles that guide human behavior.\n",
      "\n",
      "Ultimately, the nature and expression of love are highly subjective and unique to each individual. It's what makes us human, after all!\n",
      "User: \n",
      "Assistant: It seems like you're starting a conversation, but I'm not sure what specific topic or question you have in mind. Would you like to talk about something in particular, or is there something on your mind that you'd like to discuss?\n",
      "User: q\n",
      "Goodbye!\n"
     ]
    }
   ],
   "source": [
    "from typing import Annotated\n",
    "from typing_extensions import TypedDict\n",
    "\n",
    "from langgraph.graph import StateGraph\n",
    "from langgraph.graph.message import add_messages\n",
    "\n",
    "\n",
    "class State(TypedDict):\n",
    "    messages: Annotated[list, add_messages]\n",
    "\n",
    "\n",
    "graph_builder = StateGraph(State)\n",
    "\n",
    "def chatbot(state: State):\n",
    "    return {\"messages\": [llm.invoke(state[\"messages\"])]}\n",
    "\n",
    "\n",
    "# The first argument is the unique node name\n",
    "# The second argument is the function or object that will be called whenever\n",
    "# the node is used.\n",
    "graph_builder.add_node(\"chatbot\", chatbot)\n",
    "graph_builder.set_entry_point(\"chatbot\")\n",
    "graph_builder.set_finish_point(\"chatbot\")\n",
    "graph = graph_builder.compile()\n",
    "\n",
    "def stream_graph_updates(user_input: str):\n",
    "    for event in graph.stream({\"messages\": [(\"user\", user_input)]}):\n",
    "        for value in event.values():\n",
    "            print(\"Assistant:\", value[\"messages\"][-1])\n",
    "\n",
    "while True:\n",
    "    try:\n",
    "        user_input = input(\"User: \")\n",
    "        print(\"User: \" + user_input)\n",
    "        if user_input.lower() in [\"quit\", \"exit\", \"q\"]:\n",
    "            print(\"Goodbye!\")\n",
    "            break\n",
    "\n",
    "        stream_graph_updates(user_input)\n",
    "    except:\n",
    "        # fallback if input() is not available\n",
    "        user_input = input()\n",
    "        print(\"User: \" + user_input)\n",
    "        stream_graph_updates(user_input)\n",
    "        break"
   ]
  },
  {
   "cell_type": "code",
   "execution_count": null,
   "metadata": {},
   "outputs": [],
   "source": []
  }
 ],
 "metadata": {
  "kernelspec": {
   "display_name": "mygenai",
   "language": "python",
   "name": "python3"
  },
  "language_info": {
   "codemirror_mode": {
    "name": "ipython",
    "version": 3
   },
   "file_extension": ".py",
   "mimetype": "text/x-python",
   "name": "python",
   "nbconvert_exporter": "python",
   "pygments_lexer": "ipython3",
   "version": "3.12.3"
  }
 },
 "nbformat": 4,
 "nbformat_minor": 2
}
