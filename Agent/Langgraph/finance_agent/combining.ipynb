{
 "cells": [
  {
   "cell_type": "code",
   "execution_count": 14,
   "metadata": {},
   "outputs": [],
   "source": [
    "from typing import TypedDict, Annotated\n",
    "from langgraph.graph import StateGraph, START, END\n",
    "from langgraph.graph.message import add_messages\n",
    "\n",
    "import time\n",
    "from IPython.display import Image, display\n",
    "import operator"
   ]
  },
  {
   "cell_type": "code",
   "execution_count": 15,
   "metadata": {},
   "outputs": [
    {
     "data": {
      "image/jpeg": "[encoded data removed]",
      "text/plain": [
       "<IPython.core.display.Image object>"
      ]
     },
     "metadata": {},
     "output_type": "display_data"
    }
   ],
   "source": [
    "class State(TypedDict):\n",
    "    message: Annotated[list[str], add_messages]\n",
    "\n",
    "def get_agent1(state: State):\n",
    "    print('This is agent 1, doing calculation')\n",
    "    time.sleep(1)\n",
    "    print('This is agent 1 reporting.....')\n",
    "    return state\n",
    "\n",
    "\n",
    "\n",
    "def get_agent2(state: State):\n",
    "    print('This is agent 2, doing calculation')\n",
    "    time.sleep(1)\n",
    "    print('This is agent 2 reporting.....')\n",
    "    return state\n",
    "    \n",
    "\n",
    "\n",
    "\n",
    "def get_reporting_agent(state: State):\n",
    "    print('This is reporting agent, doing reporting')\n",
    "    time.sleep(1)\n",
    "    print('This is reporting agent reporting.....')\n",
    "    return state\n",
    "\n",
    "workflow = StateGraph(State)\n",
    "workflow.add_node('Pass', lambda state: state)\n",
    "workflow.add_edge(START, 'Pass')\n",
    "\n",
    "workflow.add_node('agent1', get_agent1)\n",
    "workflow.add_edge('Pass', 'agent1')\n",
    "\n",
    "workflow.add_node('agent2', get_agent2)\n",
    "workflow.add_edge('Pass', 'agent2')\n",
    "\n",
    "workflow.add_node('reporting_agent', get_reporting_agent)\n",
    "workflow.add_edge('agent1', 'reporting_agent')\n",
    "workflow.add_edge('agent2', 'reporting_agent')\n",
    "\n",
    "workflow.add_edge('reporting_agent', END)\n",
    "\n",
    "app = workflow.compile()  # Compile the workflow\n",
    "\n",
    "from IPython.display import Image, display\n",
    "\n",
    "display(Image(app.get_graph().draw_mermaid_png()))\n",
    "\n"
   ]
  },
  {
   "cell_type": "code",
   "execution_count": 16,
   "metadata": {},
   "outputs": [
    {
     "name": "stdout",
     "output_type": "stream",
     "text": [
      "This is agent 1, doing calculation\n",
      "This is agent 2, doing calculation\n",
      "This is agent 1 reporting.....\n",
      "This is agent 2 reporting.....\n",
      "This is reporting agent, doing reporting\n",
      "This is reporting agent reporting.....\n"
     ]
    },
    {
     "data": {
      "text/plain": [
       "{'message': [HumanMessage(content='Hello, world!', additional_kwargs={}, response_metadata={}, id='fddc4bfe-c541-4416-a96c-f772b1d9dca0')]}"
      ]
     },
     "execution_count": 16,
     "metadata": {},
     "output_type": "execute_result"
    }
   ],
   "source": [
    "app.invoke({'message': ['Hello, world!']})"
   ]
  },
  {
   "cell_type": "code",
   "execution_count": 18,
   "metadata": {},
   "outputs": [
    {
     "name": "stdout",
     "output_type": "stream",
     "text": [
      "================================\u001b[1m Human Message \u001b[0m=================================\n",
      "\n",
      "Should I buy this stock?\n",
      "==================================\u001b[1m Ai Message \u001b[0m==================================\n",
      "\n",
      "To provide a thorough analysis of whether you should consider buying Tesla (TSLA) stock, I will gather the latest stock prices, technical indicators, and relevant news sentiment. Please hold on for a moment while I retrieve this information.\n",
      "Tool Calls:\n",
      "  get_stock_prices (call_cHv7KSYBPYFJsTffKRUEn6XN)\n",
      " Call ID: call_cHv7KSYBPYFJsTffKRUEn6XN\n",
      "  Args:\n",
      "    ticker: TSLA\n",
      "  get_news_sentiment (call_NxiOAKFTIcc2iZUyOljEaxYv)\n",
      " Call ID: call_NxiOAKFTIcc2iZUyOljEaxYv\n",
      "  Args:\n",
      "    ticker: TSLA\n",
      "=================================\u001b[1m Tool Message \u001b[0m=================================\n",
      "Name: get_news_sentiment\n",
      "\n",
      "{\"news_sentiment\": \"will aquire tiktok next month, Positve\"}\n",
      "==================================\u001b[1m Ai Message \u001b[0m==================================\n",
      "\n",
      "### Fundamental Analysis Summary for Tesla (TSLA)\n",
      "\n",
      "1. **Stock Price Performance**:\n",
      "   - Tesla's stock is currently at an all-time high. This indicates strong market confidence in the company’s future prospects.\n",
      "\n",
      "2. **Technical Indicators**:\n",
      "   - The Relative Strength Index (RSI) is at 65. This suggests that the stock is nearing overbought conditions (a level above 70 typically indicates overbought), but it is not yet in that territory. An RSI in this range can indicate a strong upward trend, but caution is advised as it approaches overbought levels.\n",
      "\n",
      "3. **News Sentiment**:\n",
      "   - Recent news indicates that Tesla is planning to acquire TikTok next month, which is being viewed positively. This potential acquisition could have significant implications for Tesla's growth and market strategy.\n",
      "\n",
      "### Conclusion:\n",
      "- **Strengths**: The stock is at an all-time high and the news sentiment around a potential acquisition is positive, suggesting momentum and growth potential.\n",
      "- **Concerns**: The RSI nearing overbought levels indicates a possible correction or consolidation period could be ahead.\n",
      "\n",
      "### Recommendation:\n",
      "While the current indicators are generally positive, the decision to buy should consider your risk tolerance and investment strategy. If you believe in Tesla's long-term growth and can handle potential volatility, it may be a suitable investment. However, if you prefer to wait for a better entry point, monitoring the RSI and overall market conditions might be prudent.\n"
     ]
    }
   ],
   "source": [
    "FUNDAMENTAL_ANALYST_PROMPT = \"\"\"\n",
    "You are a fundamental analyst specializing in evaluating company (whose symbol is {company}) performance based on stock prices, technical indicators, financial metrics and News.\n",
    "Your task is to provide a comprehensive summary of the fundamental analysis for a given stock.\n",
    "\n",
    "You have access to the following tools:\n",
    "1. **get_stock_prices**: Retrieves the latest stock price, historical price data and technical Indicators like RSI, MACD, Drawdown and VWAP.\n",
    "3. **get_news_sentiment**: Summarize latest news and retirieves latest news.\n",
    "\n",
    "### Your Task:\n",
    "1. **Input Stock Symbol**: Use the provided stock symbol to query the tools and gather the relevant information.\n",
    "2. **Analyze Data**: Evaluate the results from the tools and identify potential resistance, key trends, strengths, or concerns.\n",
    "3. **Provide Summary**: Write a concise, well-structured summary that highlights:\n",
    "\n",
    "\n",
    "### Constraints:\n",
    "- Use only the data provided by the tools.\n",
    "- Avoid speculative language; focus on observable data and trends.\n",
    "- If any tool fails to provide data, clearly state that in your summary.\n",
    "\n",
    "\"\"\"\n",
    "\n",
    "from langchain_openai import ChatOpenAI\n",
    "import dotenv\n",
    "dotenv.load_dotenv()\n",
    "from langchain_core.tools import tool\n",
    "from langgraph.prebuilt import ToolNode, tools_condition\n",
    "from typing import Union, Dict\n",
    "from langchain_core.messages import SystemMessage\n",
    "\n",
    "@tool\n",
    "def get_stock_prices(ticker: str) -> Union[Dict]:\n",
    "    \"\"\"Fetches historical stock price data and technical indicator for a given ticker.\"\"\"\n",
    "    return {'stock_price': 'All time high', 'technical indicator': 'RSI at 65'}\n",
    "    \n",
    "@tool\n",
    "def get_news_sentiment(ticker: str) -> Union[Dict]:\n",
    "    \"\"\"Fetches key financial ratios for a given ticker.\"\"\"\n",
    "    return {\n",
    "        'news_sentiment':'will aquire tiktok next month, Positve',\n",
    "    }\n",
    "\n",
    "    \n",
    "class State(TypedDict):\n",
    "    messages: Annotated[list, add_messages]\n",
    "    stock: str\n",
    "    \n",
    "graph_builder = StateGraph(State)\n",
    "\n",
    "tools = [get_stock_prices, get_news_sentiment]\n",
    "llm = ChatOpenAI(model='gpt-4o-mini')\n",
    "llm_with_tool = llm.bind_tools(tools)\n",
    "\n",
    "def fundamental_analyst(state: State):\n",
    "    messages = [\n",
    "        SystemMessage(content=FUNDAMENTAL_ANALYST_PROMPT.format(company=state['stock'])),\n",
    "    ]  + state['messages']\n",
    "    return {\n",
    "        'messages': llm_with_tool.invoke(messages)\n",
    "    }\n",
    "    \n",
    "graph_builder.add_node('fundamental_analyst', fundamental_analyst)\n",
    "graph_builder.add_edge(START, 'fundamental_analyst')\n",
    "graph_builder.add_node(ToolNode(tools))\n",
    "graph_builder.add_conditional_edges('fundamental_analyst', tools_condition)\n",
    "graph_builder.add_edge('tools', 'fundamental_analyst')\n",
    "\n",
    "# HumanMessage(content=)\n",
    "# graph_builder.add_edge('fundamental_analyst', END)\n",
    "graph = graph_builder.compile()\n",
    "events = graph.stream({'messages':[('user', 'Should I buy this stock?')],\n",
    " 'stock': 'TSLA'}, stream_mode='values')\n",
    "for event in events:\n",
    "    if 'messages' in event:\n",
    "        event['messages'][-1].pretty_print()\n",
    "    "
   ]
  },
  {
   "cell_type": "code",
   "execution_count": 19,
   "metadata": {},
   "outputs": [
    {
     "data": {
      "image/jpeg": "[encoded data removed]",
      "text/plain": [
       "<IPython.core.display.Image object>"
      ]
     },
     "metadata": {},
     "output_type": "display_data"
    }
   ],
   "source": [
    "from IPython.display import Image, display\n",
    "\n",
    "try:\n",
    "    display(Image(graph.get_graph().draw_mermaid_png()))\n",
    "except Exception:\n",
    "    # This requires some extra dependencies and is optional\n",
    "    pass"
   ]
  },
  {
   "cell_type": "code",
   "execution_count": null,
   "metadata": {},
   "outputs": [],
   "source": []
  }
 ],
 "metadata": {
  "kernelspec": {
   "display_name": "mygenai",
   "language": "python",
   "name": "python3"
  },
  "language_info": {
   "codemirror_mode": {
    "name": "ipython",
    "version": 3
   },
   "file_extension": ".py",
   "mimetype": "text/x-python",
   "name": "python",
   "nbconvert_exporter": "python",
   "pygments_lexer": "ipython3",
   "version": "3.12.3"
  }
 },
 "nbformat": 4,
 "nbformat_minor": 2
}
