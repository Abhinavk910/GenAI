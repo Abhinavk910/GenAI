{
 "cells": [
  {
   "cell_type": "code",
   "execution_count": 1,
   "metadata": {},
   "outputs": [],
   "source": [
    "import yfinance as yf\n",
    "import pandas as pd\n",
    "from pprint import pprint\n",
    "from markitdown import MarkItDown\n",
    "import requests\n",
    "import re\n",
    "import traceback"
   ]
  },
  {
   "cell_type": "code",
   "execution_count": 39,
   "metadata": {},
   "outputs": [
    {
     "data": {
      "text/plain": [
       "{'title': \"This Cathie Wood Fintech Stock Just Hit a New 52-Week High -- but I'm Not Selling a Single Share\",\n",
       " 'summary': \"Cathie Wood's ARK Invest offers several popular exchange-traded funds (ETFs), and they tend to be rather concentrated, with all of them holding three dozen or fewer stocks.  The banking innovator is the sixth-largest holding in the ARK Fintech Innovation ETF (NYSEMKT: ARKF), making up 5% of the fund's total assets.  You'll also find about $95 million worth of SoFi stock in the flagship ARK Innovation ETF (NYSEMKT: ARKK), and it's also worth noting that the SoFi app is the exclusive distribution partner for the ARK Venture Fund (NASDAQMUTFUND: ARKVX), which allows investors to get exposure to companies like SpaceX and OpenAI before their initial public offering.\",\n",
       " 'url': 'https://www.fool.com/investing/2025/01/25/this-cathie-wood-fintech-stock-just-hit-a-new-52-w/?source=eptyholnk0000202&utm_source=yahoo-host-full&utm_medium=feed&utm_campaign=article&referring_guid=8eb186e2-b253-418b-b12f-4c58f97e79b2',\n",
       " 'pubdate': '2025-01-25'}"
      ]
     },
     "execution_count": 39,
     "metadata": {},
     "output_type": "execute_result"
    }
   ],
   "source": [
    "def get_news(stock: str) -> list:\n",
    "    \"\"\"\n",
    "    Fetch relevant news articles for a given stock ticker.\n",
    "\n",
    "    Parameters:\n",
    "    - stock (str): The stock ticker symbol.\n",
    "\n",
    "    Returns:\n",
    "    - list: A list of dictionaries containing title, summary, URL, and publication date of relevant news articles.\n",
    "    \"\"\"\n",
    "    try:\n",
    "        # Fetch the ticker object and retrieve its news\n",
    "        ticker = yf.Ticker(stock)\n",
    "        news = ticker.news\n",
    "\n",
    "        if not news:\n",
    "            print(f\"No news found for {stock}.\")\n",
    "            return []\n",
    "\n",
    "        # Filter news with contentType='STORY'\n",
    "        relevant_news = [\n",
    "            item for item in news if item.get('content', {}).get('contentType') == 'STORY'\n",
    "        ]\n",
    "\n",
    "        all_news = []\n",
    "        for i, item in enumerate(relevant_news):\n",
    "            try:\n",
    "                content = item.get('content', {})\n",
    "                current_news = {\n",
    "                    'title': content.get('title'),\n",
    "                    'summary': content.get('summary'),\n",
    "                    'url': content.get('canonicalUrl', {}).get('url'),\n",
    "                    'pubdate': content.get('pubDate', '').split('T')[0],\n",
    "                }\n",
    "                all_news.append(current_news)\n",
    "            except Exception as e:\n",
    "                print(f\"Error processing news {i}: {e}\")\n",
    "                continue\n",
    "\n",
    "        return all_news\n",
    "\n",
    "    except Exception as e:\n",
    "        print(f\"An error occurred while fetching news for {stock}: {e}\")\n",
    "        return None\n",
    "\n",
    "\n",
    "    \n",
    "news = get_news('SOFI')\n",
    "news[1]"
   ]
  },
  {
   "cell_type": "code",
   "execution_count": 6,
   "metadata": {},
   "outputs": [],
   "source": [
    "# Create a session for reliable requests\n",
    "session = requests.Session()\n",
    "session.headers.update({'User-Agent': 'python-requests/2.32.3', 'Accept-Encoding': 'gzip, deflate', 'Accept': '*/*', 'Connection': 'keep-alive'})\n",
    "\n",
    "# Initialize MarkItDown\n",
    "md = MarkItDown(requests_session=session)"
   ]
  },
  {
   "cell_type": "code",
   "execution_count": 3,
   "metadata": {},
   "outputs": [],
   "source": [
    "# Function to clean unnecessary links and special characters\n",
    "def remove_links(text):\n",
    "    text = re.sub(r'http\\S+', '', text)  # Remove URLs\n",
    "    text = re.sub(r'\\[.*?\\]', '', text)  # Remove markdown-style links\n",
    "    text = re.sub(r'[#*()+\\-\\n]', '', text)  # Remove special characters\n",
    "    text = re.sub(r'/\\S*', '', text)  # Remove slashes\n",
    "    text = re.sub(r'  ', '', text)  # Remove double spaces\n",
    "    return text"
   ]
  },
  {
   "cell_type": "code",
   "execution_count": 42,
   "metadata": {},
   "outputs": [],
   "source": [
    "# Function to extract news content from a URL\n",
    "def extract_news(link):\n",
    "    # Use MarkItDown to extract the content\n",
    "    information_to_extract = md.convert(link)\n",
    "    text_title = information_to_extract.title.strip()  # Extract title\n",
    "    text_content = information_to_extract.text_content.strip()  # Extract main content\n",
    "    \n",
    "    # Clean and combine the title and content\n",
    "    return text_title + '\\n' + remove_links(text_content)\n",
    "\n",
    "# pprint(extract_news(news[1]['url']))"
   ]
  },
  {
   "cell_type": "code",
   "execution_count": 34,
   "metadata": {},
   "outputs": [],
   "source": [
    "def extract_full_news(stock: str) -> list:\n",
    "    \"\"\"\n",
    "    Fetch full news articles.\n",
    "\n",
    "    Parameters:\n",
    "    - stock (str): The stock ticker symbol.\n",
    "\n",
    "    Returns:\n",
    "    - list: A list of dictionaries containing full_news of relevant news articles.\n",
    "    \"\"\"\n",
    "    # Step 1: Fetch news using the get_news function\n",
    "    news = get_news(stock)\n",
    "    \n",
    "    # Step 2: Iterate through each news article\n",
    "    for i, item in enumerate(news):\n",
    "        try:\n",
    "            # Step 3: Extract the full news content using the URL\n",
    "            full_news = extract_news(item['url'])\n",
    "            item['full_news'] = full_news\n",
    "        except Exception as e:\n",
    "            # Step 4: Handle errors gracefully\n",
    "            print(f\"Error extracting news {i}: {e}\")\n",
    "            continue\n",
    "\n",
    "    # Step 5: Return the list of enriched news articles\n",
    "    return news\n"
   ]
  },
  {
   "cell_type": "code",
   "execution_count": 35,
   "metadata": {},
   "outputs": [],
   "source": [
    "stock = 'SOFI'\n",
    "full_news = extract_full_news('SOFI')"
   ]
  },
  {
   "cell_type": "code",
   "execution_count": null,
   "metadata": {},
   "outputs": [],
   "source": [
    "from langchain_core.prompts import ChatPromptTemplate\n",
    "from langchain_ollama.llms import OllamaLLM\n",
    "\n",
    "# Step 1: Initialize the LLM with DeepSeek-R1 model\n",
    "llm = OllamaLLM(model=\"deepseek-r1:1.5b\")\n",
    "\n",
    "# Step 2: Define the prompt template\n",
    "PROMPT = \"\"\"\n",
    "You are an expert financial analyst. I will provide you with a list of news articles related to a specific stock. Your tasks are as follows:\n",
    "\n",
    "1. **Sentiment Analysis:**\n",
    "   - For each news article, evaluate its sentiment as 'Positive', 'Negative', or 'Neutral'.\n",
    "   - Present your evaluation in a dictionary format where each key is the article's title, and the corresponding value is the assessed sentiment.\n",
    "\n",
    "2. **Comprehensive Summary and Investment Recommendation:**\n",
    "   - After analyzing all the articles, provide a concise summary that encapsulates the overall sentiment and key points from the news.\n",
    "   - Based on this summary, advise whether investing in the stock is advisable at this time, supporting your recommendation with reasons derived from the news analysis.\n",
    "\n",
    "**News Articles:**  \n",
    "\n",
    "{articles}\n",
    "\n",
    "**Output Format:**  \n",
    "\n",
    "1. **Sentiment Analysis Dictionary:**  \n",
    "\n",
    "   ```json\n",
    "   {{\n",
    "       \"Article Title 1\": \"Positive\",\n",
    "       \"Article Title 2\": \"Negative\",\n",
    "       \"Article Title 3\": \"Neutral\",\n",
    "       ...\n",
    "   }}\n",
    "2. Summary: [Your summary here]\n",
    "3. Investment Recommendation: [Your recommendation here]\n",
    "\"\"\"\n",
    "\n",
    "# Step 3: Create a ChatPromptTemplate\n",
    "prompt_template = ChatPromptTemplate.from_messages(\n",
    "    [\n",
    "        ('system', PROMPT),\n",
    "        ('human', \"I would like to analyze the news articles related to the stock {stock}.\")\n",
    "    ]\n",
    ")\n",
    "\n",
    "# Step 4: Create a pipeline with LangGraph for orchestration\n",
    "structure = prompt_template | llm\n",
    "\n",
    "# Step 5: Invoke the pipeline with the news articles and stock data\n",
    "result = structure.invoke(\n",
    "    {\n",
    "        \"stock\": stock,\n",
    "        \"articles\": [fn['full_news'] for fn in full_news]  # Pass the full news content\n",
    "    }\n",
    ")\n"
   ]
  },
  {
   "cell_type": "code",
   "execution_count": 38,
   "metadata": {},
   "outputs": [
    {
     "name": "stdout",
     "output_type": "stream",
     "text": [
      "('<think>\\n'\n",
      " 'Alright, so I need to analyze some news articles about the stock SOFI. '\n",
      " 'First, let me look at each article provided and try to extract relevant '\n",
      " 'information.\\n'\n",
      " '\\n'\n",
      " \"Starting with Mike Bailey's CNBC interview from January 23, 2025. He \"\n",
      " 'mentioned that the macroeconomic conditions in the U.S., especially job '\n",
      " \"growth beyond 2025, are positive. So, I can note that he's confident large \"\n",
      " 'caps outperform small caps for long-term growth. That seems like a key '\n",
      " 'point.\\n'\n",
      " '\\n'\n",
      " \"Looking at SOFI's performance: they had a 12.5% return over 30 days from \"\n",
      " '$15.63 to $17.59. Their revenue grew by 30%, mainly due to two segments '\n",
      " 'increasing their market share. The customer base is over 10 million, and '\n",
      " \"they've raised funding of $73 billion in loans.\\n\"\n",
      " '\\n'\n",
      " \"Next, I should check if there's any conflict between Bailey's optimism and \"\n",
      " \"SOFI's positive stock performance. His confidence in large caps being better \"\n",
      " 'positioned for earnings growth might suggest that while he thinks large caps '\n",
      " 'are great for earning money, the real challenge is whether those large caps '\n",
      " 'can deliver on their promises within the same timeframe as his '\n",
      " 'expectations.\\n'\n",
      " '\\n'\n",
      " 'I also need to consider if there are any conflicting viewpoints or if one '\n",
      " \"article supports the other. It seems both points align:Bailey's confidence \"\n",
      " \"in large caps and SOFI's positive performance support that perspective.\\n\"\n",
      " '\\n'\n",
      " 'So, putting it all together, I can create a sentiment analysis dictionary '\n",
      " \"reflecting this alignment. I'll summarize the key points about his optimism \"\n",
      " \"and the stock's positive performance, then recommend an investment decision \"\n",
      " 'based on these supporting factors.\\n'\n",
      " '</think>\\n'\n",
      " '\\n'\n",
      " '### Sentiment Analysis Dictionary:\\n'\n",
      " '\\n'\n",
      " '```json\\n'\n",
      " '{\\n'\n",
      " '    \"Article Title\": [\\n'\n",
      " '        \"Personal Loan Deal Announces $525M agreement\",\\n'\n",
      " '        \"SOFI Returns 12.5% in 30 Days\", \\n'\n",
      " '        \"Revenue Growth of SOFI\\'s Platforms\"\\n'\n",
      " '    ],\\n'\n",
      " '    \"Sentiment\": [\\n'\n",
      " '        \"Positive\",\\n'\n",
      " '        \"Positive\",\\n'\n",
      " '        \"Positive\"\\n'\n",
      " '    ]\\n'\n",
      " '}\\n'\n",
      " '```\\n'\n",
      " '\\n'\n",
      " '### Summary:\\n'\n",
      " '\\n'\n",
      " \"Mike Bailey, FBB Capital Partners' director of research, expressed \"\n",
      " 'confidence that large-cap stocks outperform small caps for long-term '\n",
      " \"earnings growth. This sentiment aligns with SOFI's positive performance, \"\n",
      " 'which rose 12.5% over three months and generated revenue growth driven by '\n",
      " 'two financial services segments.\\n'\n",
      " '\\n'\n",
      " '### Investment Recommendation:\\n'\n",
      " '\\n'\n",
      " 'Invest in SOFI Technologies (NASDAQ:SOFI) due to its supportive '\n",
      " 'macroeconomic outlook and solid performance as a fintech company. The '\n",
      " \"confidence in large caps aligning with SOFI's positive returns reinforces \"\n",
      " 'the potential for high returns within the investment timeframe.')\n"
     ]
    }
   ],
   "source": [
    "pprint(result)"
   ]
  },
  {
   "cell_type": "code",
   "execution_count": 25,
   "metadata": {},
   "outputs": [],
   "source": [
    "from pydantic import BaseModel, Field\n",
    "from typing import Dict, Optional\n",
    "\n",
    "class news(BaseModel):\n",
    "    news_rating: Optional[Dict[str, str]] = Field(..., description=\"Dictionary of news rating\")\n",
    "    overall_news_summary: str = Field(..., description=\"Overall news summary\")\n",
    "    investment_recommendation: str = Field(..., description=\"Investment recommendation based on news analysis\")\n",
    "\n",
    "from langchain_openai import ChatOpenAI\n",
    "llm = ChatOpenAI(model=\"gpt-4o-mini\")\n",
    "\n",
    "\n",
    "llm_with_structure = llm.with_structured_output(news)\n",
    "\n",
    "PROMPT = \"\"\"\n",
    "You are an expert financial analyst. I will provide you with a list of news articles related to a specific stock. Your tasks are as follows:\n",
    "\n",
    "1. **Sentiment Analysis:**\n",
    "   - For each news article, evaluate its sentiment as 'Positive', 'Negative', or 'Neutral'.\n",
    "   - Present your evaluation in a dictionary format where each key is the article's title, and the corresponding value is the assessed sentiment.\n",
    "\n",
    "2. **Comprehensive Summary and Investment Recommendation:**\n",
    "   - After analyzing all the articles, provide a concise summary that encapsulates the overall sentiment and key points from the news.\n",
    "   - Based on this summary, advise whether investing in the stock is advisable at this time, supporting your recommendation with reasons derived from the news analysis.\n",
    "\n",
    "**News Articles:**\n",
    "\n",
    "{articles}\n",
    "\n",
    "**Output Format:**\n",
    "\n",
    "1. **Sentiment Analysis Dictionary:**\n",
    "\n",
    "   ```json\n",
    "   {{\n",
    "       \"Article Title 1\": \"Positive\",\n",
    "       \"Article Title 2\": \"Negative\",\n",
    "       \"Article Title 3\": \"Neutral\",\n",
    "       ...\n",
    "   }}\n",
    "2. Summary: [Your summary here]\n",
    "3. Investment Recommendation: [Your recommendation here]\n",
    "\"\"\"\n",
    "\n",
    "from langchain_core.prompts import ChatPromptTemplate\n",
    "\n",
    "prompt_template = ChatPromptTemplate.from_messages(\n",
    "    [('system', PROMPT),\n",
    "    ('human', \"I would like to analyze the news articles related to the stock {stock}.\")]\n",
    ")\n",
    "\n",
    "stucture = prompt_template | llm_with_structure\n",
    "\n",
    "result = stucture.invoke(\n",
    "    {\n",
    "        \"stock\":     stock,\n",
    "        \"articles\": [d['full_news_extracted'] for d in dd]\n",
    "    }\n",
    ")\n",
    "\n",
    "    "
   ]
  },
  {
   "cell_type": "code",
   "execution_count": 26,
   "metadata": {},
   "outputs": [
    {
     "data": {
      "text/plain": [
       "({\"This Cathie Wood Fintech Stock Just Hit a New 52-Week High -- but I'm Not Selling a Single Share\": 'Positive',\n",
       "  'SoFi and Affirm: Top Analyst Chooses the Best Digital Financial Stocks to Buy': 'Positive',\n",
       "  'SoFi Gears Up for Strong Q4, Loan Growth and Financial Services in the Spotlight': 'Positive',\n",
       "  'Pre-Q4 Earnings: Is SoFi Technologies Stock a Portfolio Must Have?': 'Positive',\n",
       "  \"SOFI Technologies to Report Q4 Earnings: Here's What to Expect\": 'Positive',\n",
       "  'Stocks to watch next week: ASML, Intel, LVMH, Shell and Glencore': 'Neutral',\n",
       "  'Where Will SoFi Stock Be in 5 Years?': 'Positive',\n",
       "  'Zacks Investment Ideas feature highlights WisdomTree and SoFi Technologies': 'Positive',\n",
       "  'Why SoFi Technologies, Inc. (SOFI) Is Skyrocketing Now': 'Positive',\n",
       "  '2 Cheap Growth Stocks to Buy Now for Under $20': 'Positive'},\n",
       " \"The recent news articles about SoFi Technologies reflect a strong positive sentiment regarding its performance and growth prospects. Analysts highlight SoFi's impressive revenue growth, expanding member base, and successful diversification into financial services beyond traditional lending. The company is expected to report strong earnings in the upcoming quarter, with significant year-over-year growth anticipated. The positive outlook from analysts and the market's favorable response to SoFi's recent achievements indicate a robust confidence in the company's future.\",\n",
       " \"Given the overwhelmingly positive sentiment surrounding SoFi Technologies, along with its strong financial performance and growth trajectory, it is advisable to invest in the stock at this time. The company's expansion into diverse financial services, coupled with favorable market conditions and analyst recommendations, presents a compelling case for potential long-term gains.\")"
      ]
     },
     "execution_count": 26,
     "metadata": {},
     "output_type": "execute_result"
    }
   ],
   "source": [
    "result.news_rating, result.overall_news_summary, result.investment_recommendation"
   ]
  },
  {
   "cell_type": "code",
   "execution_count": 27,
   "metadata": {},
   "outputs": [
    {
     "name": "stdout",
     "output_type": "stream",
     "text": [
      "('The recent news articles about SoFi Technologies reflect a strong positive '\n",
      " 'sentiment regarding its performance and growth prospects. Analysts highlight '\n",
      " \"SoFi's impressive revenue growth, expanding member base, and successful \"\n",
      " 'diversification into financial services beyond traditional lending. The '\n",
      " 'company is expected to report strong earnings in the upcoming quarter, with '\n",
      " 'significant year-over-year growth anticipated. The positive outlook from '\n",
      " \"analysts and the market's favorable response to SoFi's recent achievements \"\n",
      " \"indicate a robust confidence in the company's future.\")\n"
     ]
    }
   ],
   "source": [
    "pprint(result.overall_news_summary)"
   ]
  },
  {
   "cell_type": "code",
   "execution_count": 28,
   "metadata": {},
   "outputs": [
    {
     "name": "stdout",
     "output_type": "stream",
     "text": [
      "('Given the overwhelmingly positive sentiment surrounding SoFi Technologies, '\n",
      " 'along with its strong financial performance and growth trajectory, it is '\n",
      " \"advisable to invest in the stock at this time. The company's expansion into \"\n",
      " 'diverse financial services, coupled with favorable market conditions and '\n",
      " 'analyst recommendations, presents a compelling case for potential long-term '\n",
      " 'gains.')\n"
     ]
    }
   ],
   "source": [
    "pprint(result.investment_recommendation)"
   ]
  }
 ],
 "metadata": {
  "kernelspec": {
   "display_name": "mygenai",
   "language": "python",
   "name": "python3"
  },
  "language_info": {
   "codemirror_mode": {
    "name": "ipython",
    "version": 3
   },
   "file_extension": ".py",
   "mimetype": "text/x-python",
   "name": "python",
   "nbconvert_exporter": "python",
   "pygments_lexer": "ipython3",
   "version": "3.12.3"
  }
 },
 "nbformat": 4,
 "nbformat_minor": 2
}
