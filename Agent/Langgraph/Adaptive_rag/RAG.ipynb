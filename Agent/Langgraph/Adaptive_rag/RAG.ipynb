{
 "cells": [
  {
   "cell_type": "code",
   "execution_count": 1,
   "metadata": {},
   "outputs": [
    {
     "data": {
      "text/plain": [
       "True"
      ]
     },
     "execution_count": 1,
     "metadata": {},
     "output_type": "execute_result"
    }
   ],
   "source": [
    "import os\n",
    "import dotenv\n",
    "dotenv.load_dotenv()"
   ]
  },
  {
   "cell_type": "code",
   "execution_count": 5,
   "metadata": {},
   "outputs": [
    {
     "name": "stdout",
     "output_type": "stream",
     "text": [
      "26\n"
     ]
    },
    {
     "data": {
      "text/plain": [
       "\"In sum, while the outlook is promising, we're prepared for any shifts in the market.\""
      ]
     },
     "execution_count": 5,
     "metadata": {},
     "output_type": "execute_result"
    }
   ],
   "source": [
    "urls = [\n",
    "    \"https://www.nutmeg.com/nutmegonomics/our-2025-investment-outlook\",\n",
    "    \"https://www.nutmeg.com/nutmegonomics/nutmeg-investor-update-december-2024\",\n",
    "    \"https://www.nutmeg.com/nutmegonomics/nutmeg-investor-update-november-2024\",\n",
    "    \"https://www.nutmeg.com/nutmegonomics/nutmeg-investor-update-october-2024\"\n",
    "]\n",
    "\n",
    "\n",
    "from langchain.text_splitter import RecursiveCharacterTextSplitter\n",
    "from langchain_community.document_loaders import WebBaseLoader\n",
    "from langchain_community.vectorstores import Chroma\n",
    "\n",
    "docs = [WebBaseLoader(url).load() for url in urls]\n",
    "docs_list = [item for sublist in docs for item in sublist]\n",
    "\n",
    "# Split\n",
    "text_splitter = RecursiveCharacterTextSplitter.from_tiktoken_encoder(\n",
    "    chunk_size=500, chunk_overlap=0\n",
    ")\n",
    "doc_splits = text_splitter.split_documents(docs_list)\n",
    "\n",
    "print(len(doc_splits))\n",
    "doc_splits[10].page_content[12:96]"
   ]
  },
  {
   "cell_type": "code",
   "execution_count": 6,
   "metadata": {},
   "outputs": [
    {
     "name": "stderr",
     "output_type": "stream",
     "text": [
      "c:\\Users\\Hp\\Documents\\personal\\New Folder\\GenAI\\mygenai\\Lib\\site-packages\\tqdm\\auto.py:21: TqdmWarning: IProgress not found. Please update jupyter and ipywidgets. See https://ipywidgets.readthedocs.io/en/stable/user_install.html\n",
      "  from .autonotebook import tqdm as notebook_tqdm\n"
     ]
    }
   ],
   "source": [
    "import google.generativeai as genai\n",
    "genai.configure(api_key=os.getenv(\"GOOGLE_API_KEY\")) #https://aistudio.google.com/app/apikey\n",
    "\n",
    "from langchain_google_genai import GoogleGenerativeAIEmbeddings\n",
    "\n",
    "embd = GoogleGenerativeAIEmbeddings(\n",
    "    model=\"models/embedding-001\",\n",
    ")\n",
    "\n",
    "vectorstore = Chroma.from_documents(\n",
    "    documents=doc_splits,\n",
    "    collection_name=\"rag-chroma\",\n",
    "    embedding=embd,\n",
    ")\n",
    "retriever = vectorstore.as_retriever()"
   ]
  },
  {
   "cell_type": "code",
   "execution_count": 10,
   "metadata": {},
   "outputs": [],
   "source": [
    "from langchain_openai import ChatOpenAI\n",
    "llm = ChatOpenAI(model='gpt-4o-mini', temperature=0.2)"
   ]
  },
  {
   "cell_type": "code",
   "execution_count": 33,
   "metadata": {},
   "outputs": [
    {
     "data": {
      "text/plain": [
       "RouteQuery(datasource='vectorstore')"
      ]
     },
     "execution_count": 33,
     "metadata": {},
     "output_type": "execute_result"
    }
   ],
   "source": [
    "from pydantic import BaseModel, Field\n",
    "from typing import Literal\n",
    "\n",
    "class RouteQuery(BaseModel):\n",
    "    \"\"\"Route a user query to the most relevant datasource.\"\"\"\n",
    "\n",
    "    datasource: Literal[\"vectorstore\", \"web_search\"] = Field(\n",
    "        ...,\n",
    "        description=\"Given a user question choose to route it to web search or a vectorstore.\",\n",
    "    )\n",
    "    \n",
    "structured_llm_router = llm.with_structured_output(RouteQuery)\n",
    "    \n",
    "# Prompt\n",
    "ROUTER_PROMPT = \"\"\"You are an expert at routing a user question to a vectorstore or web search.\n",
    "The vectorstore contains documents related to 2025, new year investment outlook by nutmeg.\n",
    "Use the vectorstore for questions on these topics. Otherwise, use web-search.\"\"\"\n",
    "from langchain_core.prompts import ChatPromptTemplate\n",
    "route_prompt = ChatPromptTemplate.from_messages(\n",
    "    [\n",
    "        (\"system\", ROUTER_PROMPT),\n",
    "        (\"human\", \"{question}\"),\n",
    "    ]\n",
    ")\n",
    "\n",
    "question_router = route_prompt | structured_llm_router\n",
    "\n",
    "question_router.invoke({\"question\": \"what's new in the 2025, which stock I should watch?\"})"
   ]
  },
  {
   "cell_type": "code",
   "execution_count": 14,
   "metadata": {},
   "outputs": [
    {
     "data": {
      "text/plain": [
       "GradeDocuments(binary_score='yes')"
      ]
     },
     "execution_count": 14,
     "metadata": {},
     "output_type": "execute_result"
    }
   ],
   "source": [
    "class GradeDocuments(BaseModel):\n",
    "    \"\"\"Binary Score Yes and No for relevance check on retrieved documents.\"\"\"\n",
    "\n",
    "    binary_score: str = Field(\n",
    "        description=\"Documents are relevant to the question, 'yes' or 'no'\"\n",
    "    )\n",
    "    \n",
    "structured_llm_grader = llm.with_structured_output(GradeDocuments)\n",
    "\n",
    "BINARY_PROMPT = \"\"\"You are a grader assessing relevance of a retrieved document to a user question. \\n\n",
    "    If the document contains keyword(s) or semantic meaning related to the user question, grade it as relevant. \\n\n",
    "    It does not need to be a stringent test. The goal is to filter out erroneous retrievals. \\n\n",
    "    Give a binary score 'yes' or 'no' score to indicate whether the document is relevant to the question.\"\"\"\n",
    "    \n",
    "grade_prompt = ChatPromptTemplate.from_messages(\n",
    "    [\n",
    "        (\"system\", BINARY_PROMPT),\n",
    "        (\"human\", \"Retrieved document: \\n\\n {document} \\n\\n User question: {question}\"),\n",
    "    ]\n",
    ")\n",
    "\n",
    "scorer = grade_prompt | structured_llm_grader\n",
    "\n",
    "scorer.invoke({\"document\": \"The new AI agents are designed to be more efficient and effective in their tasks.\",\n",
    "               \"question\": \"What are the new agents?\"})"
   ]
  },
  {
   "cell_type": "code",
   "execution_count": 15,
   "metadata": {},
   "outputs": [
    {
     "data": {
      "text/plain": [
       "GradeDocuments(binary_score='no')"
      ]
     },
     "execution_count": 15,
     "metadata": {},
     "output_type": "execute_result"
    }
   ],
   "source": [
    "question = \"what's your thought on apple stock?\"\n",
    "docs = retriever.get_relevant_documents(question)\n",
    "doc_txt = docs[-1].page_content\n",
    "scorer.invoke({\"question\": question, \"document\": doc_txt})"
   ]
  },
  {
   "cell_type": "code",
   "execution_count": 16,
   "metadata": {},
   "outputs": [
    {
     "data": {
      "text/plain": [
       "\"What is your analysis of Apple Inc.'s stock performance and future outlook?\""
      ]
     },
     "execution_count": 16,
     "metadata": {},
     "output_type": "execute_result"
    }
   ],
   "source": [
    "from langchain_core.output_parsers import StrOutputParser\n",
    "# Prompt\n",
    "system = \"\"\"You a question re-writer that converts an input question to a better version that is optimized \\n\n",
    "     for vectorstore retrieval. Look at the input and try to reason about the underlying semantic intent / meaning.\"\"\"\n",
    "re_write_prompt = ChatPromptTemplate.from_messages(\n",
    "    [\n",
    "        (\"system\", system),\n",
    "        (\n",
    "            \"human\",\n",
    "            \"Here is the initial question: \\n\\n {question} \\n Formulate an improved question. Just give me the question\",\n",
    "        ),\n",
    "    ]\n",
    ")\n",
    "\n",
    "question_rewriter = re_write_prompt | llm | StrOutputParser()\n",
    "question_rewriter.invoke({\"question\": question})"
   ]
  },
  {
   "cell_type": "code",
   "execution_count": 17,
   "metadata": {},
   "outputs": [
    {
     "name": "stdout",
     "output_type": "stream",
     "text": [
      "The retrieved context does not provide specific insights or opinions on Apple stock. It emphasizes the importance of conducting your own research and acknowledges the risks associated with investing. Therefore, I don't have a definitive thought on Apple stock.\n"
     ]
    }
   ],
   "source": [
    "from langchain import hub\n",
    "\n",
    "\n",
    "# Pull the prompt from Langchain's hub\n",
    "prompt = hub.pull(\"rlm/rag-prompt\", api_key=os.getenv('LANGCHAIN_API_KEY'))\n",
    "\n",
    "# Chain for generation\n",
    "rag_chain = prompt | llm | StrOutputParser()\n",
    "\n",
    "# Run generation with context (relevant documents) and the user's question\n",
    "generation = rag_chain.invoke({\"context\": docs, \"question\": question})\n",
    "\n",
    "print(generation)"
   ]
  },
  {
   "cell_type": "code",
   "execution_count": 18,
   "metadata": {},
   "outputs": [
    {
     "data": {
      "text/plain": [
       "GradeHallucinations(binary_score='yes')"
      ]
     },
     "execution_count": 18,
     "metadata": {},
     "output_type": "execute_result"
    }
   ],
   "source": [
    "class GradeHallucinations(BaseModel):\n",
    "    \"\"\"Binary score for hallucination present in generation answer.\"\"\"\n",
    "\n",
    "    binary_score: str = Field(\n",
    "        description=\"Answer is grounded in the facts, 'yes' or 'no'\"\n",
    "    )\n",
    "\n",
    "structured_llm_grader = llm.with_structured_output(GradeHallucinations)\n",
    "system = \"\"\"You are a grader assessing whether an LLM generation is grounded in / supported by a set of retrieved facts. \\n\n",
    "     Give a binary score 'yes' or 'no'. 'Yes' means that the answer is grounded in / supported by the set of facts.\"\"\"\n",
    "hallucination_prompt = ChatPromptTemplate.from_messages(\n",
    "    [\n",
    "        (\"system\", system),\n",
    "        (\"human\", \"Set of facts: \\n\\n {documents} \\n\\n LLM generation: {generation}\"),\n",
    "    ]\n",
    ")\n",
    "hallucination_grader = hallucination_prompt | structured_llm_grader\n",
    "hallucination_grader.invoke({\"documents\": docs, \"generation\": generation})"
   ]
  },
  {
   "cell_type": "code",
   "execution_count": 19,
   "metadata": {},
   "outputs": [
    {
     "data": {
      "text/plain": [
       "GradeAnswer(binary_score='no')"
      ]
     },
     "execution_count": 19,
     "metadata": {},
     "output_type": "execute_result"
    }
   ],
   "source": [
    "class GradeAnswer(BaseModel):\n",
    "    \"\"\"Binary score to assess answer addresses question.\"\"\"\n",
    "\n",
    "    binary_score: str = Field(\n",
    "        description=\"Answer addresses the question, 'yes' or 'no'\"\n",
    "    )\n",
    "\n",
    "\n",
    "structured_llm_grader = llm.with_structured_output(GradeAnswer)\n",
    "\n",
    "# Prompt\n",
    "system = \"\"\"You are a grader assessing whether an answer addresses / resolves a question \\n\n",
    "     Give a binary score 'yes' or 'no'. Yes' means that the answer resolves the question.\"\"\"\n",
    "answer_prompt = ChatPromptTemplate.from_messages(\n",
    "    [\n",
    "        (\"system\", system),\n",
    "        (\"human\", \"User question: \\n\\n {question} \\n\\n LLM generation: {generation}\"),\n",
    "    ]\n",
    ")\n",
    "\n",
    "answer_grader = answer_prompt | structured_llm_grader\n",
    "answer_grader.invoke({\"question\": question, \"generation\": generation})"
   ]
  },
  {
   "cell_type": "code",
   "execution_count": 20,
   "metadata": {},
   "outputs": [],
   "source": [
    "from typing import List\n",
    "from typing_extensions import TypedDict\n",
    "\n",
    "class GraphState(TypedDict):\n",
    "    \"\"\"Defines the state structure for the graph flow.\"\"\"\n",
    "    question: str  # The original or rewritten user question\n",
    "    generation: str  # The answer generated by the system\n",
    "    documents: List[str]  # The list of documents retrieved for the question\n",
    "\n",
    "   \n",
    "from langgraph.graph import START, END , StateGraph\n",
    "workflow = StateGraph(GraphState)  "
   ]
  },
  {
   "cell_type": "code",
   "execution_count": 21,
   "metadata": {},
   "outputs": [
    {
     "data": {
      "text/plain": [
       "<langgraph.graph.state.StateGraph at 0x23e19c73d40>"
      ]
     },
     "execution_count": 21,
     "metadata": {},
     "output_type": "execute_result"
    }
   ],
   "source": [
    "def retrieve(state: GraphState):\n",
    "    print(\"--RETRIEVING--\")\n",
    "    question = state[\"question\"]\n",
    "    documents = retriever.invoke(question)  # Fetch documents from the vector database\n",
    "    return {\"documents\": documents, \"question\": question}\n",
    "\n",
    "workflow.add_node(\"retrieve\", retrieve)  # Add retriever node to the workflow"
   ]
  },
  {
   "cell_type": "code",
   "execution_count": 22,
   "metadata": {},
   "outputs": [
    {
     "data": {
      "text/plain": [
       "<langgraph.graph.state.StateGraph at 0x23e19c73d40>"
      ]
     },
     "execution_count": 22,
     "metadata": {},
     "output_type": "execute_result"
    }
   ],
   "source": [
    "from langchain.schema import Document\n",
    "from langchain_community.tools.tavily_search import TavilySearchResults\n",
    "web_search_tool = TavilySearchResults(k=1)  # Configure Tavily search tool\n",
    "def web_search(state):\n",
    "    print(\"-- DOING WEB SEARCH --\")\n",
    "    question = state[\"question\"]\n",
    "    docs = web_search_tool.invoke({\"query\": question})  # Perform the web search\n",
    "    web_results = \"\\n\".join([d[\"content\"] for d in docs])  # Combine the results into a single document\n",
    "    web_results = Document(page_content=web_results)\n",
    "    return {\"documents\": web_results, \"question\": question}\n",
    "\n",
    "workflow.add_node(\"web_search\", web_search)  # Add web search node to the workflow\n"
   ]
  },
  {
   "cell_type": "code",
   "execution_count": 23,
   "metadata": {},
   "outputs": [
    {
     "data": {
      "text/plain": [
       "<langgraph.graph.state.StateGraph at 0x23e19c73d40>"
      ]
     },
     "execution_count": 23,
     "metadata": {},
     "output_type": "execute_result"
    }
   ],
   "source": [
    "def route_question(state):\n",
    "    print(\"---ROUTE QUESTION---\")\n",
    "    question = state[\"question\"]\n",
    "    source = question_router.invoke({\"question\": question})  # Query router determines the data source\n",
    "    if source.datasource == \"web_search\":\n",
    "        print(\"---ROUTE QUESTION TO WEB SEARCH---\")\n",
    "        return \"web_search\"\n",
    "    elif source.datasource == \"vectorstore\":\n",
    "        print(\"---ROUTE QUESTION TO RAG---\")\n",
    "        return \"vectorstore\"\n",
    "    \n",
    "\n",
    "# Build the graph with conditional edges\n",
    "workflow.add_conditional_edges(\n",
    "    START,  # Start of the workflow\n",
    "    route_question,  # Route the question using the query router\n",
    "    {\n",
    "        \"web_search\": \"web_search\",  # Route to web search node\n",
    "        \"vectorstore\": \"retrieve\",  # Route to retriever node\n",
    "    },\n",
    ")\n"
   ]
  },
  {
   "cell_type": "code",
   "execution_count": 19,
   "metadata": {},
   "outputs": [
    {
     "data": {
      "image/jpeg": "[encoded data removed]",
      "text/plain": [
       "<IPython.core.display.Image object>"
      ]
     },
     "metadata": {},
     "output_type": "display_data"
    }
   ],
   "source": [
    "# app = workflow.compile()  # Compile the workflow\n",
    "\n",
    "# from IPython.display import Image, display\n",
    "\n",
    "# display(Image(app.get_graph().draw_mermaid_png()))"
   ]
  },
  {
   "cell_type": "code",
   "execution_count": 24,
   "metadata": {},
   "outputs": [
    {
     "data": {
      "text/plain": [
       "<langgraph.graph.state.StateGraph at 0x23e19c73d40>"
      ]
     },
     "execution_count": 24,
     "metadata": {},
     "output_type": "execute_result"
    }
   ],
   "source": [
    "def grade_document(state):\n",
    "    \"\"\"\n",
    "    Grades the retrieved documents for relevance.\n",
    "\n",
    "    Args:\n",
    "        state (dict): Current graph state containing the question and retrieved documents.\n",
    "\n",
    "    Returns:\n",
    "        dict: Updated state with only relevant documents.\n",
    "    \"\"\"\n",
    "    print(\"----CHECKING DOCUMENT RELEVANCE----\")\n",
    "    documents = state[\"documents\"]\n",
    "    relevant_docs = []  \n",
    "    question = state[\"question\"]\n",
    "\n",
    "    for d in documents:\n",
    "        score = scorer.invoke({\"question\": question, \"document\": d.page_content})  # Use the scorer to grade documents\n",
    "        grade = score.binary_score\n",
    "        if grade == \"yes\":\n",
    "            print(\"---GRADE: DOCUMENT RELEVANT---\")\n",
    "            relevant_docs.append(d)  # Add relevant documents to the list\n",
    "        else:\n",
    "            print(\"---GRADE: DOCUMENT NOT RELEVANT---\")\n",
    "            continue\n",
    "\n",
    "    return {\"documents\": relevant_docs, \"question\": question}  # Return relevant documents with the question\n",
    "\n",
    "# Add the node to the workflow\n",
    "workflow.add_node(\"grade_documents\", grade_document)\n",
    "# Add an edge from retriever to document grader\n",
    "workflow.add_edge(\"retrieve\", \"grade_documents\")\n"
   ]
  },
  {
   "cell_type": "code",
   "execution_count": 25,
   "metadata": {},
   "outputs": [
    {
     "data": {
      "image/jpeg": "[encoded data removed]",
      "text/plain": [
       "<IPython.core.display.Image object>"
      ]
     },
     "metadata": {},
     "output_type": "display_data"
    }
   ],
   "source": [
    "# app = workflow.compile()  # Compile the workflow\n",
    "\n",
    "# from IPython.display import Image, display\n",
    "\n",
    "# display(Image(app.get_graph().draw_mermaid_png()))"
   ]
  },
  {
   "cell_type": "code",
   "execution_count": 25,
   "metadata": {},
   "outputs": [
    {
     "data": {
      "text/plain": [
       "<langgraph.graph.state.StateGraph at 0x23e19c73d40>"
      ]
     },
     "execution_count": 25,
     "metadata": {},
     "output_type": "execute_result"
    }
   ],
   "source": [
    "def transform_query(state):\n",
    "    print(\"--TRANSFORMING THE QUERY--\")\n",
    "    question = state[\"question\"]\n",
    "    documents = state[\"documents\"]\n",
    "    better_question = question_rewriter.invoke({\"question\":question})\n",
    "    return {\"documents\": documents, \"question\": better_question}\n",
    "\n",
    "workflow.add_node(\"transform_query\", transform_query)\n",
    "workflow.add_edge(\"transform_query\", \"retrieve\")"
   ]
  },
  {
   "cell_type": "code",
   "execution_count": 26,
   "metadata": {},
   "outputs": [
    {
     "data": {
      "text/plain": [
       "<langgraph.graph.state.StateGraph at 0x23e19c73d40>"
      ]
     },
     "execution_count": 26,
     "metadata": {},
     "output_type": "execute_result"
    }
   ],
   "source": [
    "def generate(state):\n",
    "    print(\"--GENERATE--\")\n",
    "    question = state[\"question\"]\n",
    "    documents = state[\"documents\"]\n",
    "    \n",
    "    generation = rag_chain.invoke({\"context\":documents , \"question\":question})\n",
    "    return {\"documents\": documents , \"question\":question , \"generation\":generation}\n",
    "\n",
    "workflow.add_node(\"generate\", generate)\n",
    "\n",
    "workflow.add_edge(\"web_search\", \"generate\")"
   ]
  },
  {
   "cell_type": "code",
   "execution_count": 27,
   "metadata": {},
   "outputs": [
    {
     "data": {
      "text/plain": [
       "<langgraph.graph.state.StateGraph at 0x23e19c73d40>"
      ]
     },
     "execution_count": 27,
     "metadata": {},
     "output_type": "execute_result"
    }
   ],
   "source": [
    "def decide_to_generate(state):\n",
    "    \"\"\"\n",
    "    decides to whether to generate the answer or to re-generate the question\n",
    "    \"\"\"\n",
    "    print(\"--ASSESSING THE RELEVANT DOCUMENTS --\")\n",
    "    question = state[\"question\"]\n",
    "    relevant_docs = state[\"documents\"]\n",
    "    if not relevant_docs :\n",
    "      print(\"--DECISION : ALL THE DOCUMENT FOUND ARE NOT RELEVANT TO THE QUERY , SO WE NEED TO TRANSFORM IT \")\n",
    "      return \"transform_query\"\n",
    "    else:\n",
    "      print(\"--DECISION : GENERATE THE ANSWER\")\n",
    "      return \"generate\"\n",
    "  \n",
    "workflow.add_conditional_edges(\n",
    "    \"grade_documents\",\n",
    "    decide_to_generate,\n",
    "    {\n",
    "        \"transform_query\": \"transform_query\",\n",
    "        \"generate\": \"generate\",\n",
    "    },\n",
    ")\n",
    "  "
   ]
  },
  {
   "cell_type": "code",
   "execution_count": null,
   "metadata": {},
   "outputs": [
    {
     "data": {
      "image/jpeg": "[encoded data removed]",
      "text/plain": [
       "<IPython.core.display.Image object>"
      ]
     },
     "metadata": {},
     "output_type": "display_data"
    }
   ],
   "source": [
    "# app = workflow.compile()  # Compile the workflow\n",
    "\n",
    "# from IPython.display import Image, display\n",
    "\n",
    "# display(Image(app.get_graph().draw_mermaid_png()))"
   ]
  },
  {
   "cell_type": "code",
   "execution_count": 28,
   "metadata": {},
   "outputs": [],
   "source": [
    "def grade_generation_v_documents_and_question(state):\n",
    "  print(\"--CHECKING THE HALLUCINATIONS--\")\n",
    "  question = state[\"question\"]\n",
    "  generation = state[\"generation\"]\n",
    "  documents = state[\"documents\"]\n",
    "\n",
    "  score = hallucination_grader.invoke({\"documents\": documents , \"generation\": generation})\n",
    "  grade = score.binary_score\n",
    "  if grade == \"yes\":\n",
    "    print(\"---GENERATION IS GROUNDED IN THE DOCUMENTS--- \")\n",
    "    print(\"--GRADING GENERATION VS QUESTION--\")\n",
    "    score = answer_grader.invoke({\"question\" :question , \"generation\" : generation})\n",
    "    grade = score.binary_score\n",
    "    if grade == \"yes\":\n",
    "      print(\"---DECISION: GENERATION IS GROUNDED IN DOCUMENTS---\")\n",
    "      # Check question-answering\n",
    "      print(\"---GRADE GENERATION vs QUESTION---\")\n",
    "      score = answer_grader.invoke({\"question\": question, \"generation\": generation})\n",
    "      grade = score.binary_score\n",
    "      if grade == \"yes\":\n",
    "          print(\"---DECISION: GENERATION ADDRESSES QUESTION---\")\n",
    "          return \"useful\"\n",
    "      else:\n",
    "          print(\"---DECISION: GENERATION DOES NOT ADDRESS QUESTION---\")\n",
    "          return \"not useful\"\n",
    "    else:\n",
    "      print(\"---DECISION: GENERATION IS NOT GROUNDED IN DOCUMENTS, RE-TRY---\")\n",
    "      return \"not supported\""
   ]
  },
  {
   "cell_type": "code",
   "execution_count": 29,
   "metadata": {},
   "outputs": [
    {
     "data": {
      "text/plain": [
       "<langgraph.graph.state.StateGraph at 0x23e19c73d40>"
      ]
     },
     "execution_count": 29,
     "metadata": {},
     "output_type": "execute_result"
    }
   ],
   "source": [
    "workflow.add_conditional_edges(\n",
    "    \"generate\",\n",
    "    grade_generation_v_documents_and_question,\n",
    "    {\n",
    "        \"not supported\": \"generate\",\n",
    "        \"useful\": END,\n",
    "        \"not useful\": \"transform_query\",\n",
    "    },\n",
    ")\n"
   ]
  },
  {
   "cell_type": "code",
   "execution_count": 30,
   "metadata": {},
   "outputs": [
    {
     "data": {
      "image/jpeg": "[encoded data removed]",
      "text/plain": [
       "<IPython.core.display.Image object>"
      ]
     },
     "metadata": {},
     "output_type": "display_data"
    }
   ],
   "source": [
    "app = workflow.compile()  # Compile the workflow\n",
    "\n",
    "from IPython.display import Image, display\n",
    "\n",
    "display(Image(app.get_graph().draw_mermaid_png()))"
   ]
  },
  {
   "cell_type": "code",
   "execution_count": 34,
   "metadata": {},
   "outputs": [
    {
     "name": "stdout",
     "output_type": "stream",
     "text": [
      "---ROUTE QUESTION---\n",
      "---ROUTE QUESTION TO RAG---\n",
      "\"Node 'question':\"\n",
      "'No generation found at this step.'\n",
      "{'question': \"what's new in the 2025, which stock I should watch?\"}\n",
      "\n",
      "---\n",
      "\n",
      "--RETRIEVING--\n",
      "\"Node 'question':\"\n",
      "'No generation found at this step.'\n",
      "\"Node 'documents':\"\n",
      "'No generation found at this step.'\n",
      "{'question': \"what's new in the 2025, which stock I should watch?\", 'documents': [Document(metadata={'description': 'The Nutmeg investment team give their views ahead of the new year', 'language': 'en', 'source': 'https://www.nutmeg.com/nutmegonomics/our-2025-investment-outlook', 'title': 'Our 2025 investment outlook - Nutmeg'}, page_content=\"2024. But the extent of easing will depend on this balance of demand strength and resultant inflationary pressures.Our cautiously optimistic view that central banks will continue their rate cut cycle means\\xa0we have a modest overweight in bond exposure across our portfolios. Bond prices typically have an inverse relationship with policy rates and therefore as policy rates fall, bond prices should be pushed up.\\xa0Even if we might be slightly early, we want to anticipate future moves in 2025.5. Navigating a new political era without losing sight of long-term goalsThe year 2025 promises to be eventful on the geopolitical stage. The ongoing war in Europe and instability in the Middle East are unlikely to recede easily. The conflict in Ukraine is approaching the beginning of its fourth year, with little hope for an easy resolution. Similarly, in the Middle East,\\xa0the ongoing conflict between Israel and its neighbours,\\xa0along with tensions with Iran, is expected to persist into 2025. In Syria, the fall of Bashar al-Assad's regime adds another layer of instability to the region, as history has shown that the collapse of autocratic regimes rarely leads to a smooth and peaceful transition of power.On the political front, a new administration in the United States, with concentrated power, introduces a degree of uncertainty compared to the more predictable Biden administration. In Germany, a potential change in government, with the traditional CDU/CSU\\xa0(Christian Democratic Union/Christian Social Union) possibly returning to power, could steer the Eurozone's largest economy in a different direction. Meanwhile, France, which has enjoyed a relatively stable political landscape, is entering a period of instability that is likely to intensify in 2025.Despite these developments, it is crucial not to become overly distracted by geopolitical events when it comes to investments.The Trump administration,\\xa0despite its potentially less predictable nature, aims to be business-friendly, which is often positive for risky assets. Tensions in the Middle East and the war in Ukraine have had a limited overall impact on commodities, oil, and gas prices beyond the initial shock. Oil prices, for instance, are now well below the levels seen in the aftermath of the initial\\xa0invasion of Ukraine. Chart 6: The oil price now sits around pre-COVID levelsSource: Macrobond, Nutmeg, as at 6 December 2024While geopolitical events are significant, their impact on a portfolio is usually much lower than the headline impact and they\\xa0should not generally be\\xa0the primary drivers of long-term investment\"), Document(metadata={'description': 'The Nutmeg investment team give their views ahead of the new year', 'language': 'en', 'source': 'https://www.nutmeg.com/nutmegonomics/our-2025-investment-outlook', 'title': 'Our 2025 investment outlook - Nutmeg'}, page_content='6 December 2024What’s more, we believe there are reasons the exceptionalism will continue, and the Nutmeg investment team go into 2025 continuing to embrace it, remaining overweight US equities.The US economy appears to have escaped a rate hiking cycle\\xa0more or less\\xa0unscathed. A rate cutting cycle has begun that\\xa0is likely to\\xa0continue, even if it is at a slower pace, in 2025. This will likely be especially welcome for domestically-exposed smaller US companies, because they tend to have more \"floating-rate\" debt on their balance sheets. This means the interest they pay on borrowing is tied to policy rates; and if the Fed rate is falling, floating-rate debt costs do too. We also expect support from the US consumer. Even as consumers spend the savings\\xa0built up\\xa0during the pandemic, they are experiencing real wage growth, which should be supportive of consumer spending growth in 2025. Finally,\\xa0pre-tax corporate profit margins have climbed higher in recent years\\xa0and continue to display signs of strength in 2024.There are reasons for caution.\\xa0Equity valuations are stretched.\\xa0The S&P 500 last traded at similar levels in 2021, after which markets subsequently dropped. At least some of the returns we’ve experienced this year can also be attributed to the promise of artificial intelligence, and expectations of associated productivity growth. Few people now question the long-run direction and potential of AI, but investors are starting to question the “when” of this delivery. The longer the question remains outstanding, the higher the threat to the continued momentum in US equities.2. Tempted to allocate more to emerging markets? Tread carefully...Emerging markets have travelled a tough path in the last year. In fact, emerging market equities have under-performed developed markets counterparts for much of the post-GFC period.2025 presents further challenges.The prospect of\\xa0tariffs\\xa0from the US\\xa0and retaliatory counter-tariffs by China is likely to unsettle emerging markets overall, as they get caught in the cross-fire of potentially lower trade volumes and weaker sentiment. Emerging market central banks, many of which had been in the process of cutting rates to help with economic growth, may be hindered by slowing US rate cuts. This is because slower rate cuts in the US may result in US dollar strength, which is typically problematic for emerging market economies.Chart 2: Emerging'), Document(metadata={'description': 'The Nutmeg investment team give their views ahead of the new year', 'language': 'en', 'source': 'https://www.nutmeg.com/nutmegonomics/our-2025-investment-outlook', 'title': 'Our 2025 investment outlook - Nutmeg'}, page_content='countries\\xa0with liabilities in US dollars. There is also the possibility that US equities fall victim to their own success. As confidence in US\\xa0equity outperformance increases, especially among investors\\xa0who missed the solid performance\\xa0to date, even a minimal degree of disappointment in the economy or in profits could create some volatility.Staying prepared for any opportunities that ariseOverall, many\\xa0elements of the picture that made us optimistic in 2024\\xa0– reflected in the portfolios – are still in place. Nevertheless, we are alert to some heightened risk of volatility, and are reflecting this among our portfolios, with a higher level of cash than usual.While we think\\xa0that\\xa0in aggregate, the environment\\xa0is attractive, we aim to have some “dry powder” in the form of cash to take advantage of opportunities if the market becomes more volatile.To use another analogy, while one could go outside the house in summer clothes in 2024, we think it is probably worth taking an umbrella this time.\\xa0Below, the Nutmeg investment team\\xa0dig\\xa0into the themes we think are going to be most important for 2025 in more detail.1. US Exceptionalism – bet against it at your perilAt the time of writing, it looks like the US’ S&P 500 will finish 2024 having gained in the region of 30%. Much has been said of the dominance of the so-called\\xa0\"Magnificent 7\"\\xa0in driving this\\xa0(that\\'s the \"mega-cap\" companies like Tesla, Amazon and Nvidia).\\xa0At times, we ourselves have bemoaned it, but each sector has had its part to play in delivering positive returns. The lowest return, from the healthcare sector,\\xa0was still in\\xa0excess of 9% (as of 3 December 2024).\\xa0Looking around the world, it is hard to find a region with stronger positive momentum than the US. What has grown to be called “US exceptionalism” has been exhibited in every one of the 15 years since the\\xa0Global Financial Crisis or \"GFC\"\\xa0which unfolded 2007-2009,\\xa0save three: 2011, 2015 and 2022. The chart below shows how much more or less the US market has returned each year, versus equities in the rest of the\\xa0world,\\xa0with\\xa0very few years of underperformance in the 15 years since the crisis.Chart 1: US excess performance versus World ex-USSource: Macrobond, Nutmeg,'), Document(metadata={'description': 'The Nutmeg investment team give their views ahead of the new year', 'language': 'en', 'source': 'https://www.nutmeg.com/nutmegonomics/our-2025-investment-outlook', 'title': 'Our 2025 investment outlook - Nutmeg'}, page_content=\"market central bank policy rates\\xa0Source: Macrobond, Nutmeg,\\xa010 December 2024However, it would be a mistake to tar all emerging markets with one clumsy brush. Many dynamics are at play in each country.The outlook for China is a lot more uncertain. It is in the process of building more resilience into its drivers of economic growth, by shifting from being an export-led economy to one driven more by its consumers. But as it tackles this transition, very challenging in its own right, the Chinese economy is also embattled by deflation and ailing real estate markets.Now on the one hand, the Chinese government has already demonstrated that it will implement substantial, supportive policy changes quickly.\\xa0On the other hand, policy shifts carried out so far this year are not, in our estimation, sufficient. We continue to monitor the situation, looking for signs policy shifts are translating into better market dynamics, and with them, investment opportunities.Investors should consider other markets on their own merits.\\xa0Taiwanese equities, lifted by its leaders in chip-making, can be expected to benefit from the continuing boom in demand for chips. India’s expanding middle-class has resulted in a rapid increase in domestic investment in financial markets. Consequently, we may see equity valuations in India remain relatively elevated in 2025 and possibly beyond.\\xa0Brazil, with its economy much reliant on commodities trade, may yet see another difficult year in the face of trade headwinds. The Nutmeg portfolios\\xa0reflect our cautious approach, with an underweight position in emerging markets, particularly China, which we continue to monitor actively.3. UK and Europe on diverging paths in 2025?In Europe and the UK, the Covid-19 pandemic response caused stubborn inflationary effects, that were later exacerbated by Russia's invasion of Ukraine. During 2024, inflation cooled on both sides of the English Channel, but economic growth remained sluggish due to aggressive policy tightening by central banks in 2023. With inflation now sufficiently under control, the\\xa0European Central Bank (ECB) and the Bank of England\\xa0(BoE) are beginning to ease interest rates.Looking ahead to 2025, the UK appears to be in a relatively better position than Europe, thanks to consumption and trade.In the UK, household incomes relative to inflation continue to grow, which we expect to support increased consumption growth throughout the year.Chart 3: UK spending and incomeSource: Macrobond, Nutmeg,\\xa09 December\")]}\n",
      "\n",
      "---\n",
      "\n",
      "----CHECKING DOCUMENT RELEVANCE----\n",
      "---GRADE: DOCUMENT NOT RELEVANT---\n",
      "---GRADE: DOCUMENT RELEVANT---\n",
      "---GRADE: DOCUMENT RELEVANT---\n",
      "---GRADE: DOCUMENT RELEVANT---\n",
      "--ASSESSING THE RELEVANT DOCUMENTS --\n",
      "--DECISION : GENERATE THE ANSWER\n",
      "\"Node 'question':\"\n",
      "'No generation found at this step.'\n",
      "\"Node 'documents':\"\n",
      "'No generation found at this step.'\n",
      "{'question': \"what's new in the 2025, which stock I should watch?\", 'documents': [Document(metadata={'description': 'The Nutmeg investment team give their views ahead of the new year', 'language': 'en', 'source': 'https://www.nutmeg.com/nutmegonomics/our-2025-investment-outlook', 'title': 'Our 2025 investment outlook - Nutmeg'}, page_content='6 December 2024What’s more, we believe there are reasons the exceptionalism will continue, and the Nutmeg investment team go into 2025 continuing to embrace it, remaining overweight US equities.The US economy appears to have escaped a rate hiking cycle\\xa0more or less\\xa0unscathed. A rate cutting cycle has begun that\\xa0is likely to\\xa0continue, even if it is at a slower pace, in 2025. This will likely be especially welcome for domestically-exposed smaller US companies, because they tend to have more \"floating-rate\" debt on their balance sheets. This means the interest they pay on borrowing is tied to policy rates; and if the Fed rate is falling, floating-rate debt costs do too. We also expect support from the US consumer. Even as consumers spend the savings\\xa0built up\\xa0during the pandemic, they are experiencing real wage growth, which should be supportive of consumer spending growth in 2025. Finally,\\xa0pre-tax corporate profit margins have climbed higher in recent years\\xa0and continue to display signs of strength in 2024.There are reasons for caution.\\xa0Equity valuations are stretched.\\xa0The S&P 500 last traded at similar levels in 2021, after which markets subsequently dropped. At least some of the returns we’ve experienced this year can also be attributed to the promise of artificial intelligence, and expectations of associated productivity growth. Few people now question the long-run direction and potential of AI, but investors are starting to question the “when” of this delivery. The longer the question remains outstanding, the higher the threat to the continued momentum in US equities.2. Tempted to allocate more to emerging markets? Tread carefully...Emerging markets have travelled a tough path in the last year. In fact, emerging market equities have under-performed developed markets counterparts for much of the post-GFC period.2025 presents further challenges.The prospect of\\xa0tariffs\\xa0from the US\\xa0and retaliatory counter-tariffs by China is likely to unsettle emerging markets overall, as they get caught in the cross-fire of potentially lower trade volumes and weaker sentiment. Emerging market central banks, many of which had been in the process of cutting rates to help with economic growth, may be hindered by slowing US rate cuts. This is because slower rate cuts in the US may result in US dollar strength, which is typically problematic for emerging market economies.Chart 2: Emerging'), Document(metadata={'description': 'The Nutmeg investment team give their views ahead of the new year', 'language': 'en', 'source': 'https://www.nutmeg.com/nutmegonomics/our-2025-investment-outlook', 'title': 'Our 2025 investment outlook - Nutmeg'}, page_content='countries\\xa0with liabilities in US dollars. There is also the possibility that US equities fall victim to their own success. As confidence in US\\xa0equity outperformance increases, especially among investors\\xa0who missed the solid performance\\xa0to date, even a minimal degree of disappointment in the economy or in profits could create some volatility.Staying prepared for any opportunities that ariseOverall, many\\xa0elements of the picture that made us optimistic in 2024\\xa0– reflected in the portfolios – are still in place. Nevertheless, we are alert to some heightened risk of volatility, and are reflecting this among our portfolios, with a higher level of cash than usual.While we think\\xa0that\\xa0in aggregate, the environment\\xa0is attractive, we aim to have some “dry powder” in the form of cash to take advantage of opportunities if the market becomes more volatile.To use another analogy, while one could go outside the house in summer clothes in 2024, we think it is probably worth taking an umbrella this time.\\xa0Below, the Nutmeg investment team\\xa0dig\\xa0into the themes we think are going to be most important for 2025 in more detail.1. US Exceptionalism – bet against it at your perilAt the time of writing, it looks like the US’ S&P 500 will finish 2024 having gained in the region of 30%. Much has been said of the dominance of the so-called\\xa0\"Magnificent 7\"\\xa0in driving this\\xa0(that\\'s the \"mega-cap\" companies like Tesla, Amazon and Nvidia).\\xa0At times, we ourselves have bemoaned it, but each sector has had its part to play in delivering positive returns. The lowest return, from the healthcare sector,\\xa0was still in\\xa0excess of 9% (as of 3 December 2024).\\xa0Looking around the world, it is hard to find a region with stronger positive momentum than the US. What has grown to be called “US exceptionalism” has been exhibited in every one of the 15 years since the\\xa0Global Financial Crisis or \"GFC\"\\xa0which unfolded 2007-2009,\\xa0save three: 2011, 2015 and 2022. The chart below shows how much more or less the US market has returned each year, versus equities in the rest of the\\xa0world,\\xa0with\\xa0very few years of underperformance in the 15 years since the crisis.Chart 1: US excess performance versus World ex-USSource: Macrobond, Nutmeg,'), Document(metadata={'description': 'The Nutmeg investment team give their views ahead of the new year', 'language': 'en', 'source': 'https://www.nutmeg.com/nutmegonomics/our-2025-investment-outlook', 'title': 'Our 2025 investment outlook - Nutmeg'}, page_content=\"market central bank policy rates\\xa0Source: Macrobond, Nutmeg,\\xa010 December 2024However, it would be a mistake to tar all emerging markets with one clumsy brush. Many dynamics are at play in each country.The outlook for China is a lot more uncertain. It is in the process of building more resilience into its drivers of economic growth, by shifting from being an export-led economy to one driven more by its consumers. But as it tackles this transition, very challenging in its own right, the Chinese economy is also embattled by deflation and ailing real estate markets.Now on the one hand, the Chinese government has already demonstrated that it will implement substantial, supportive policy changes quickly.\\xa0On the other hand, policy shifts carried out so far this year are not, in our estimation, sufficient. We continue to monitor the situation, looking for signs policy shifts are translating into better market dynamics, and with them, investment opportunities.Investors should consider other markets on their own merits.\\xa0Taiwanese equities, lifted by its leaders in chip-making, can be expected to benefit from the continuing boom in demand for chips. India’s expanding middle-class has resulted in a rapid increase in domestic investment in financial markets. Consequently, we may see equity valuations in India remain relatively elevated in 2025 and possibly beyond.\\xa0Brazil, with its economy much reliant on commodities trade, may yet see another difficult year in the face of trade headwinds. The Nutmeg portfolios\\xa0reflect our cautious approach, with an underweight position in emerging markets, particularly China, which we continue to monitor actively.3. UK and Europe on diverging paths in 2025?In Europe and the UK, the Covid-19 pandemic response caused stubborn inflationary effects, that were later exacerbated by Russia's invasion of Ukraine. During 2024, inflation cooled on both sides of the English Channel, but economic growth remained sluggish due to aggressive policy tightening by central banks in 2023. With inflation now sufficiently under control, the\\xa0European Central Bank (ECB) and the Bank of England\\xa0(BoE) are beginning to ease interest rates.Looking ahead to 2025, the UK appears to be in a relatively better position than Europe, thanks to consumption and trade.In the UK, household incomes relative to inflation continue to grow, which we expect to support increased consumption growth throughout the year.Chart 3: UK spending and incomeSource: Macrobond, Nutmeg,\\xa09 December\")]}\n",
      "\n",
      "---\n",
      "\n",
      "--GENERATE--\n",
      "--CHECKING THE HALLUCINATIONS--\n",
      "---GENERATION IS GROUNDED IN THE DOCUMENTS--- \n",
      "--GRADING GENERATION VS QUESTION--\n",
      "---DECISION: GENERATION IS GROUNDED IN DOCUMENTS---\n",
      "---GRADE GENERATION vs QUESTION---\n",
      "---DECISION: GENERATION ADDRESSES QUESTION---\n",
      "\"Node 'question':\"\n",
      "'No generation found at this step.'\n",
      "\"Node 'generation':\"\n",
      "'No generation found at this step.'\n",
      "\"Node 'documents':\"\n",
      "'No generation found at this step.'\n",
      "{'question': \"what's new in the 2025, which stock I should watch?\", 'generation': 'In 2025, the Nutmeg investment team suggests focusing on US equities, particularly smaller domestically-exposed companies that may benefit from a rate-cutting cycle. They highlight the potential for continued consumer spending growth and the strength of corporate profit margins, despite some caution regarding stretched equity valuations. Investors should also keep an eye on emerging markets, especially Taiwan and India, while being cautious about China.', 'documents': [Document(metadata={'description': 'The Nutmeg investment team give their views ahead of the new year', 'language': 'en', 'source': 'https://www.nutmeg.com/nutmegonomics/our-2025-investment-outlook', 'title': 'Our 2025 investment outlook - Nutmeg'}, page_content='6 December 2024What’s more, we believe there are reasons the exceptionalism will continue, and the Nutmeg investment team go into 2025 continuing to embrace it, remaining overweight US equities.The US economy appears to have escaped a rate hiking cycle\\xa0more or less\\xa0unscathed. A rate cutting cycle has begun that\\xa0is likely to\\xa0continue, even if it is at a slower pace, in 2025. This will likely be especially welcome for domestically-exposed smaller US companies, because they tend to have more \"floating-rate\" debt on their balance sheets. This means the interest they pay on borrowing is tied to policy rates; and if the Fed rate is falling, floating-rate debt costs do too. We also expect support from the US consumer. Even as consumers spend the savings\\xa0built up\\xa0during the pandemic, they are experiencing real wage growth, which should be supportive of consumer spending growth in 2025. Finally,\\xa0pre-tax corporate profit margins have climbed higher in recent years\\xa0and continue to display signs of strength in 2024.There are reasons for caution.\\xa0Equity valuations are stretched.\\xa0The S&P 500 last traded at similar levels in 2021, after which markets subsequently dropped. At least some of the returns we’ve experienced this year can also be attributed to the promise of artificial intelligence, and expectations of associated productivity growth. Few people now question the long-run direction and potential of AI, but investors are starting to question the “when” of this delivery. The longer the question remains outstanding, the higher the threat to the continued momentum in US equities.2. Tempted to allocate more to emerging markets? Tread carefully...Emerging markets have travelled a tough path in the last year. In fact, emerging market equities have under-performed developed markets counterparts for much of the post-GFC period.2025 presents further challenges.The prospect of\\xa0tariffs\\xa0from the US\\xa0and retaliatory counter-tariffs by China is likely to unsettle emerging markets overall, as they get caught in the cross-fire of potentially lower trade volumes and weaker sentiment. Emerging market central banks, many of which had been in the process of cutting rates to help with economic growth, may be hindered by slowing US rate cuts. This is because slower rate cuts in the US may result in US dollar strength, which is typically problematic for emerging market economies.Chart 2: Emerging'), Document(metadata={'description': 'The Nutmeg investment team give their views ahead of the new year', 'language': 'en', 'source': 'https://www.nutmeg.com/nutmegonomics/our-2025-investment-outlook', 'title': 'Our 2025 investment outlook - Nutmeg'}, page_content='countries\\xa0with liabilities in US dollars. There is also the possibility that US equities fall victim to their own success. As confidence in US\\xa0equity outperformance increases, especially among investors\\xa0who missed the solid performance\\xa0to date, even a minimal degree of disappointment in the economy or in profits could create some volatility.Staying prepared for any opportunities that ariseOverall, many\\xa0elements of the picture that made us optimistic in 2024\\xa0– reflected in the portfolios – are still in place. Nevertheless, we are alert to some heightened risk of volatility, and are reflecting this among our portfolios, with a higher level of cash than usual.While we think\\xa0that\\xa0in aggregate, the environment\\xa0is attractive, we aim to have some “dry powder” in the form of cash to take advantage of opportunities if the market becomes more volatile.To use another analogy, while one could go outside the house in summer clothes in 2024, we think it is probably worth taking an umbrella this time.\\xa0Below, the Nutmeg investment team\\xa0dig\\xa0into the themes we think are going to be most important for 2025 in more detail.1. US Exceptionalism – bet against it at your perilAt the time of writing, it looks like the US’ S&P 500 will finish 2024 having gained in the region of 30%. Much has been said of the dominance of the so-called\\xa0\"Magnificent 7\"\\xa0in driving this\\xa0(that\\'s the \"mega-cap\" companies like Tesla, Amazon and Nvidia).\\xa0At times, we ourselves have bemoaned it, but each sector has had its part to play in delivering positive returns. The lowest return, from the healthcare sector,\\xa0was still in\\xa0excess of 9% (as of 3 December 2024).\\xa0Looking around the world, it is hard to find a region with stronger positive momentum than the US. What has grown to be called “US exceptionalism” has been exhibited in every one of the 15 years since the\\xa0Global Financial Crisis or \"GFC\"\\xa0which unfolded 2007-2009,\\xa0save three: 2011, 2015 and 2022. The chart below shows how much more or less the US market has returned each year, versus equities in the rest of the\\xa0world,\\xa0with\\xa0very few years of underperformance in the 15 years since the crisis.Chart 1: US excess performance versus World ex-USSource: Macrobond, Nutmeg,'), Document(metadata={'description': 'The Nutmeg investment team give their views ahead of the new year', 'language': 'en', 'source': 'https://www.nutmeg.com/nutmegonomics/our-2025-investment-outlook', 'title': 'Our 2025 investment outlook - Nutmeg'}, page_content=\"market central bank policy rates\\xa0Source: Macrobond, Nutmeg,\\xa010 December 2024However, it would be a mistake to tar all emerging markets with one clumsy brush. Many dynamics are at play in each country.The outlook for China is a lot more uncertain. It is in the process of building more resilience into its drivers of economic growth, by shifting from being an export-led economy to one driven more by its consumers. But as it tackles this transition, very challenging in its own right, the Chinese economy is also embattled by deflation and ailing real estate markets.Now on the one hand, the Chinese government has already demonstrated that it will implement substantial, supportive policy changes quickly.\\xa0On the other hand, policy shifts carried out so far this year are not, in our estimation, sufficient. We continue to monitor the situation, looking for signs policy shifts are translating into better market dynamics, and with them, investment opportunities.Investors should consider other markets on their own merits.\\xa0Taiwanese equities, lifted by its leaders in chip-making, can be expected to benefit from the continuing boom in demand for chips. India’s expanding middle-class has resulted in a rapid increase in domestic investment in financial markets. Consequently, we may see equity valuations in India remain relatively elevated in 2025 and possibly beyond.\\xa0Brazil, with its economy much reliant on commodities trade, may yet see another difficult year in the face of trade headwinds. The Nutmeg portfolios\\xa0reflect our cautious approach, with an underweight position in emerging markets, particularly China, which we continue to monitor actively.3. UK and Europe on diverging paths in 2025?In Europe and the UK, the Covid-19 pandemic response caused stubborn inflationary effects, that were later exacerbated by Russia's invasion of Ukraine. During 2024, inflation cooled on both sides of the English Channel, but economic growth remained sluggish due to aggressive policy tightening by central banks in 2023. With inflation now sufficiently under control, the\\xa0European Central Bank (ECB) and the Bank of England\\xa0(BoE) are beginning to ease interest rates.Looking ahead to 2025, the UK appears to be in a relatively better position than Europe, thanks to consumption and trade.In the UK, household incomes relative to inflation continue to grow, which we expect to support increased consumption growth throughout the year.Chart 3: UK spending and incomeSource: Macrobond, Nutmeg,\\xa09 December\")]}\n",
      "\n",
      "---\n",
      "\n"
     ]
    }
   ],
   "source": [
    "from pprint import pprint\n",
    "inputs = {\n",
    "    \"question\": \"what's new in the 2025, which stock I should watch?\"\n",
    "}\n",
    "\n",
    "for output in app.stream(inputs, stream_mode=\"values\"):\n",
    "    for key, value in output.items():\n",
    "        pprint(f\"Node '{key}':\")\n",
    "        # Ensure 'generation' key exists\n",
    "        if \"generation\" in value:\n",
    "            pprint(value[\"generation\"])\n",
    "        else:\n",
    "            pprint(\"No generation found at this step.\")\n",
    "    print(output)\n",
    "    print(\"\\n---\\n\")"
   ]
  },
  {
   "cell_type": "code",
   "execution_count": null,
   "metadata": {},
   "outputs": [],
   "source": []
  }
 ],
 "metadata": {
  "kernelspec": {
   "display_name": "mygenai",
   "language": "python",
   "name": "python3"
  },
  "language_info": {
   "codemirror_mode": {
    "name": "ipython",
    "version": 3
   },
   "file_extension": ".py",
   "mimetype": "text/x-python",
   "name": "python",
   "nbconvert_exporter": "python",
   "pygments_lexer": "ipython3",
   "version": "3.12.3"
  }
 },
 "nbformat": 4,
 "nbformat_minor": 2
}
