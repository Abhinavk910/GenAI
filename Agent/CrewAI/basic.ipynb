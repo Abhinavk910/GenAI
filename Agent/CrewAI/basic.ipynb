{
 "cells": [
  {
   "cell_type": "code",
   "execution_count": 4,
   "metadata": {},
   "outputs": [
    {
     "data": {
      "text/plain": [
       "'A question that has puzzled philosophers, poets, and scientists for centuries. As a conversational AI, I don\\'t have personal opinions or experiences, but I can provide you with some insights.\\n\\nLove is a complex and multifaceted emotion that can be difficult to define and quantify. It encompasses a range of feelings, from the warmth and affection we feel towards others to the deep-seated connections we form with our environment, culture, and community.\\n\\nSome possible aspects of love include:\\n\\n1. Emotional connection: The feeling of being deeply connected to someone or something, often characterized by a strong emotional resonance.\\n2. Affection: A sense of care, kindness, and nurturing towards another person or entity.\\n3. Attachment: A tendency to form close bonds with others, often driven by a desire for companionship, security, and support.\\n4. Intimacy: The experience of being physically, emotionally, or mentally connected with someone, fostering feelings of vulnerability and trust.\\n5. Empathy: The ability to understand and share the feelings of another person, creating a sense of shared human experience.\\n\\nLove can take many forms, including romantic love, platonic love, familial love, self-love, and others. It\\'s essential to recognize that love is not just an emotional response but also a choice, a commitment, and a willingness to work through challenges together.\\n\\nIn the words of poet Rumi, \"Love is the other person seeing you for who you are, truly and utterly, without condition.\" Or as Maya Angelou said, \"Love recognizes no barriers. It jumps hurdles, leaps fences, penetrates walls to arrive at its destination full of hope.\"\\n\\nWhat do you think about love?'"
      ]
     },
     "execution_count": 4,
     "metadata": {},
     "output_type": "execute_result"
    }
   ],
   "source": [
    "from langchain_ollama.llms import OllamaLLM\n",
    "llm = OllamaLLM(model=\"llama3.2:1b\")\n",
    "\n",
    "llm.invoke(('user', 'what is love'))"
   ]
  },
  {
   "cell_type": "code",
   "execution_count": 7,
   "metadata": {},
   "outputs": [],
   "source": [
    "from crewai import LLM, Agent\n",
    "\n",
    "\n",
    "llm=LLM(\n",
    "    model=\"ollama/llama3.2:1b\", \n",
    "    base_url=\"http://localhost:11434\"\n",
    ")\n"
   ]
  },
  {
   "cell_type": "code",
   "execution_count": null,
   "metadata": {},
   "outputs": [],
   "source": []
  }
 ],
 "metadata": {
  "kernelspec": {
   "display_name": "mygenai",
   "language": "python",
   "name": "python3"
  },
  "language_info": {
   "codemirror_mode": {
    "name": "ipython",
    "version": 3
   },
   "file_extension": ".py",
   "mimetype": "text/x-python",
   "name": "python",
   "nbconvert_exporter": "python",
   "pygments_lexer": "ipython3",
   "version": "3.12.3"
  }
 },
 "nbformat": 4,
 "nbformat_minor": 2
}
